{
 "cells": [
  {
   "cell_type": "markdown",
   "metadata": {},
   "source": [
    "# Patrick Selover pselover@scu.edu #\n",
    "### CS183 Data Science Winter 2018 - Copyright @ Dr. Sukanya Manna###\n",
    "## Homework 2 ##\n",
    "**Due - 02/12/18 midnight**\n",
    "<br>The aim of this homework is to make you familiar with multiple linear regression with gradient descent optimization. You have to implement multiple linear regression from scratch using the data set provided. You can only use sklearn for evaluating your model on test data!"
   ]
  },
  {
   "cell_type": "markdown",
   "metadata": {},
   "source": [
    "**Problem Statement:** The data set for this problem originates from blog posts. The raw HTML-documents of the blog posts were crawled and processed. The prediction task associated with the data is the prediction of the number of comments in the upcoming 24 hours.\n",
    "\n",
    "In order to simulate this situation, we choose a base time (in the past) and select the blog posts that were published at most 72 hours before the selected base time. Then, we calculate all the features of the selected posts from the information that was available at the base time, therefore each instance corresponds to a blog post. *The target is the number of comments that the blog post received in the next 24 hours relative to the base time.*\n",
    "\n",
    "The training data was created based on the blogs collected in 2010 and 2011, while the test data was created based on the blogs collected in February 2012. This simulates the real-world situation in which training data from the past is available to predict events in the future.\n",
    "\n",
    "You are given [BlogFeedback Data Set](http://archive.ics.uci.edu/ml/datasets/BlogFeedback#). Please refer to this site to more about what the features are. For ease of use, I have provided here two files ``blogData_train.csv`` and ``blogData_test.csv`` to train and test your model respectively.\n"
   ]
  },
  {
   "cell_type": "markdown",
   "metadata": {},
   "source": [
    "**NOTE:** Before you implement your linear regression model using gradient descent, make sure you understand your data. Perform EDA on your data to get rid of noise as much as possible."
   ]
  },
  {
   "cell_type": "markdown",
   "metadata": {},
   "source": [
    "**Submission:** Please make sure you complete this ``ipynb`` file and upload it in Camino under Assignments->hw2. Make sure your file has your ``name`` and ``email`` on top. Every step that you would work on should have comments."
   ]
  },
  {
   "cell_type": "markdown",
   "metadata": {},
   "source": [
    "**Honor Code:** I encourage students to discuss the programming assignments including specific algorithms and data structures required for the assignments. However, students should not share any source code for solution.\n",
    "\n",
    "Code exists on the web for many problems including some that we may pose in problem sets or assignments. Students are expected to come up with the answers on their own, rather than extracting them from code on the web. This also means that we ask that you do not share your solutions to any of the homework, programming assignments, or problem sets with any other students. This includes any sort of sharing, whether face to face, by email, uploading onto public sites, etc. Doing so will drastically detract from the learning experience of your fellow students.\n",
    "\n",
    "*Please note that you are not allowed to share this homework or code anywhere (github/or any repository!)*"
   ]
  },
  {
   "cell_type": "code",
   "execution_count": 1,
   "metadata": {},
   "outputs": [],
   "source": [
    "# import the libraries\n",
    "import matplotlib.pyplot as plt\n",
    "%matplotlib inline\n",
    "\n",
    "# used for dataframe use and to read in csv's\n",
    "import pandas as pd\n",
    "# used for matrix multiplication (fastest algorithm)\n",
    "import numpy as np\n",
    "import sklearn.metrics as m # you are not allowed to use sklearn's linear model for this homework!"
   ]
  },
  {
   "cell_type": "code",
   "execution_count": 2,
   "metadata": {},
   "outputs": [],
   "source": [
    "# Reading training and test data in at same time\n",
    "df_train= pd.read_csv('blogData_train.csv',header=None)\n",
    "df_test= pd.read_csv('blogData_test.csv',header=None)"
   ]
  },
  {
   "cell_type": "code",
   "execution_count": 3,
   "metadata": {},
   "outputs": [],
   "source": [
    "# Feel free to insert cells as you need \n",
    "\n",
    "# remove very last column of table and put into y to \n",
    "# compare prediction (used for mean squared error)\n",
    "# training data\n",
    "y = df_train[df_train.columns[-1]];\n",
    "del df_train[df_train.columns[-1]];\n",
    "# test data\n",
    "RealY = df_test[df_test.columns[-1]];\n",
    "del df_test[df_test.columns[-1]];"
   ]
  },
  {
   "cell_type": "code",
   "execution_count": 4,
   "metadata": {},
   "outputs": [],
   "source": [
    "# normalize the traing data and test data\n",
    "# you have to choose an appropriate normalization function suitable for this dataset\n",
    "\n",
    "#if 1 unique value in column drop the column\n",
    "#if 2 unique values in column leave it \n",
    "#if >2 unique values in column normalize it\n",
    "for i in df_train:\n",
    "    if(df_train[i].nunique() == 1):\n",
    "#       if we remove the feature from the training data \n",
    "#       we must also remove the feature from the test data\n",
    "        del df_train[i];\n",
    "        del df_test[i];\n",
    "    elif(df_train[i].nunique() == 2):\n",
    "#       leave these features alone\n",
    "        continue;\n",
    "    else:\n",
    "#       mean normalization\n",
    "#       because the features are based on the training data's uniquness\n",
    "#       the test data has some columns that only have 1 unique element\n",
    "#       so the std() is 0 causing some features to be just NaN and if that\n",
    "#       is the case we just set it to 0\n",
    "        df_train[i] = (df_train[i] - df_train[i].mean()) / df_train[i].std();\n",
    "        df_test[i] = 0 if df_test[i].std() == 0 else (df_test[i] - df_test[i].mean()) / df_test[i].std();"
   ]
  },
  {
   "cell_type": "code",
   "execution_count": 5,
   "metadata": {},
   "outputs": [],
   "source": [
    "# Compute cost, just a sample signature of the function is give\n",
    "# You have to complete the rest\n",
    "#   m = 276\n",
    "#   dif = (52396x276)*(276x1) -> (52396x1)-(52396x1) -> (52396x1)\n",
    "#   return = (1x52396)(52396x1) -> (1x1)/(1x1) -> 1\n",
    "\n",
    "def compute_cost(X, y, theta): \n",
    "    m = len(y);\n",
    "    dif = np.matmul(X,theta) - y;\n",
    "    return np.matmul(dif.T, dif)/(2*m);"
   ]
  },
  {
   "cell_type": "code",
   "execution_count": 6,
   "metadata": {},
   "outputs": [],
   "source": [
    "# implement gradient descent for multiple variables\n",
    "# a sample signature of the function is given\n",
    "# you need to complete the rest\n",
    "\n",
    "def gradient_descent_multi(X, y, alpha, iterations):\n",
    "    theta = np.zeros(X.shape[1])\n",
    "    m = len(X);\n",
    "    cost = np.zeros(iterations);\n",
    "    for i in range(iterations):\n",
    "        gradient = (1/m) * np.matmul(X.T, (np.matmul(X, theta) - y))\n",
    "        theta = theta - alpha * gradient\n",
    "#       we compute cost each iteration to determine the accuracy of the\n",
    "#       theta through each iteration\n",
    "        cost[i] = compute_cost(X,y,theta);\n",
    "    return theta,cost"
   ]
  },
  {
   "cell_type": "code",
   "execution_count": 7,
   "metadata": {
    "scrolled": true
   },
   "outputs": [
    {
     "name": "stdout",
     "output_type": "stream",
     "text": [
      "theta: [-1.41651880e+00  1.95998847e+00 -4.05431120e-01  9.62604236e-01\n",
      "  1.36789863e+00  2.78706766e+00  2.70522040e+00 -5.92858823e-02\n",
      " -3.88849629e-01  3.49551064e+00  2.26862305e+00  2.68637884e+00\n",
      " -9.17417522e-01  3.66242375e+00 -2.98108548e+00 -2.27928725e+00\n",
      " -4.05431120e-01 -1.47011905e+00  9.76551125e-01  6.25508033e+00\n",
      "  3.93621752e-01 -1.96113067e+00 -2.05981669e+00  8.24292501e-01\n",
      " -1.79358478e+00  1.08257888e+00  8.74595881e-02 -8.43198561e-02\n",
      "  6.02857213e-01  1.51663884e+00 -1.72503073e-01  6.74167769e-01\n",
      " -7.78464582e-01  1.59846100e+00 -2.24037631e-01  6.50144271e-01\n",
      "  1.75615620e-01 -2.04222570e+00  6.14433845e-01  8.74595881e-02\n",
      "  1.95888011e-01 -3.51381263e-01 -5.95792220e-02 -1.10781619e+00\n",
      "  1.21656699e+00 -2.17849929e-01  1.23124138e-02 -4.20120473e+00\n",
      "  8.20189851e+00  1.97770090e+00 -3.34186183e+00  5.20161913e+00\n",
      " -1.37991490e+00  3.91963758e-01  3.24434644e-01  1.25054433e+00\n",
      "  5.25903563e-02 -3.14062938e+00  4.21953335e-01  4.68611122e-01\n",
      " -6.25990958e-01 -5.17002756e-02 -9.95723061e-03 -3.94468639e-01\n",
      "  2.61853500e-01  1.51224800e+00 -7.22747785e-01 -8.40055360e-01\n",
      "  2.18622702e+00 -5.17002756e-02 -5.13707106e-01 -8.01958409e-01\n",
      " -5.17002756e-02  3.99924989e+00 -3.66055512e-01 -1.43127793e-01\n",
      " -5.17002756e-02 -5.17002756e-02 -1.44224424e+00  7.06146457e-02\n",
      " -2.19916274e-01  8.71927531e-01 -1.33648806e-02 -2.71777823e-01\n",
      "  2.22850819e+00 -1.21366201e+00  1.70004134e-01 -1.87108045e-01\n",
      "  5.84800345e-01  8.08570188e-01 -5.17002756e-02 -1.19106189e-01\n",
      "  1.04983053e+00 -5.17002756e-02  3.78504480e-01 -1.42958581e-01\n",
      " -5.71271996e-01 -4.96641900e-01  7.69450604e-01  1.57846677e-01\n",
      "  5.98874965e-01  4.90038730e-01 -3.80920172e-01 -1.21853014e+00\n",
      " -1.30081247e+00 -4.29227882e-02 -1.28558661e+00 -3.98020522e-02\n",
      " -1.93361567e-01  1.25028775e-02 -1.15860620e+00 -2.06946530e-01\n",
      " -1.56663116e+00 -1.08472340e-01  2.34973145e-01 -1.16863562e+00\n",
      " -1.83120400e-01  5.60315500e-01 -4.40865052e-01 -2.13386705e-01\n",
      "  8.73726490e-02 -1.35036084e+00  3.24754152e-02 -1.62894375e+00\n",
      " -3.07471384e-01 -3.93327578e-02 -5.17002756e-02 -4.86142488e-01\n",
      " -5.17002756e-02  1.85414494e-01  2.90822292e-01 -8.77642423e-01\n",
      "  2.49117074e-01  1.63395505e+00  1.50324219e+00  1.96789334e-01\n",
      " -2.44308306e-01  5.27002661e-01  4.13886123e-01 -6.75777187e-01\n",
      "  6.56015833e-01 -1.69407941e+00 -8.66884406e-01 -3.13371422e+00\n",
      " -1.55472011e-01 -5.17002756e-02  4.81732034e-02  4.81520257e-01\n",
      " -6.72059981e-01 -8.69553248e-01  1.96598814e+00 -1.92115764e-01\n",
      " -5.17002756e-02  6.88269361e-02  1.00816541e+00  6.94051709e-01\n",
      " -8.53783628e-01 -5.17002756e-02 -4.71511598e-01  7.66933245e-01\n",
      " -1.08484968e+00 -6.11994468e-02 -5.17002756e-02  9.48745610e-02\n",
      " -9.84169070e-02 -5.17002756e-02 -6.49885344e-01  1.71170991e+00\n",
      " -5.17002756e-02 -1.67579145e-01 -1.25118209e+00 -1.93467906e-02\n",
      " -4.08508034e-01 -6.20457792e-01 -1.13398883e-01 -5.17002756e-02\n",
      " -3.92121564e-01 -6.96430299e-01  4.33152133e-01 -7.08569969e-01\n",
      "  6.51706693e-01 -8.05542075e-02  1.31071478e+00 -7.81047860e-01\n",
      " -7.79237317e-01 -8.07697429e-01 -5.17002756e-02 -4.89813308e-01\n",
      "  8.44942117e-01 -2.80317317e-02 -6.82514605e-01  2.53994627e+00\n",
      " -1.33183633e+00 -9.64628593e-01 -5.17002756e-02  8.09073148e-02\n",
      " -5.17002756e-02 -9.03200742e-01  6.36371338e-01 -5.32688326e-01\n",
      "  4.79732676e-02  5.79867978e-01 -3.93148365e-01  3.31858941e-01\n",
      "  1.33231189e+00 -1.91637666e-01  2.43135426e-01 -8.53203488e-01\n",
      " -5.17002756e-02  2.15637783e-02  3.06019752e-01 -1.49715408e-01\n",
      "  9.66456140e-01 -1.82724085e+00  1.02316710e+00 -1.93164251e+00\n",
      " -1.38034514e-01  1.88448197e+00 -1.68806175e+00 -7.37624192e-02\n",
      " -2.08570094e-01 -1.30652125e+00  1.26358301e+00  4.14600165e-01\n",
      " -4.08338977e-01 -1.70406886e-01  2.53135577e-01 -6.53218463e-01\n",
      "  6.84518562e-01  5.15399943e-02 -5.27511714e-01 -6.02183546e-02\n",
      " -5.17002756e-02 -1.34268219e+00 -1.01279257e+00  1.51790743e-02\n",
      " -1.86043749e-01  2.37970250e+00 -1.45607517e+00 -5.17002756e-02\n",
      " -6.66824513e-02 -4.46189924e-02 -6.82917066e-01 -6.97983363e-01\n",
      "  5.42515494e-01 -3.71172663e-02 -5.17002756e-02 -2.14672749e-01\n",
      "  1.57877185e+00 -5.66975156e-02 -3.20121766e-01 -1.57307422e+00\n",
      "  7.81221815e-03  1.12015397e+00  2.27362194e-01  1.38446079e-03\n",
      "  9.65359309e-01  1.88292283e+00 -1.01133270e-01  4.35299874e+00\n",
      "  3.26407094e+00  2.43644383e+00  2.85143522e+00  2.60144668e+00\n",
      "  3.31833625e+00  4.66231242e+00  3.26089514e+00  4.03488079e+00\n",
      "  3.53277617e+00  2.82930836e+00  3.01187431e+00  3.56494393e+00\n",
      "  3.25236540e+00  3.12645942e-02 -6.98199224e-02  9.84629282e-02]\n"
     ]
    }
   ],
   "source": [
    "# sample function calls\n",
    "\n",
    "# you have to change alpha \n",
    "# and num iteration to find out an optimal value of your theta\n",
    "it = 5000;\n",
    "theta,cost = gradient_descent_multi(df_train, y, .025, it) ;\n",
    "\n",
    "print('theta:', theta)\n",
    "# print('cost:', cost)"
   ]
  },
  {
   "cell_type": "code",
   "execution_count": 8,
   "metadata": {},
   "outputs": [
    {
     "name": "stdout",
     "output_type": "stream",
     "text": [
      "cost2 453.07779152370324\n"
     ]
    }
   ],
   "source": [
    "cost2 = compute_cost(df_train, y, theta)\n",
    "print('cost2', cost2)"
   ]
  },
  {
   "cell_type": "code",
   "execution_count": 9,
   "metadata": {
    "scrolled": true
   },
   "outputs": [
    {
     "data": {
      "text/plain": [
       "Text(0.5,1,'Error vs. Training Epoch')"
      ]
     },
     "execution_count": 9,
     "metadata": {},
     "output_type": "execute_result"
    },
    {
     "data": {
      "image/png": "[encoded data removed]",
      "text/plain": [
       "<matplotlib.figure.Figure at 0x10c1a3710>"
      ]
     },
     "metadata": {},
     "output_type": "display_data"
    }
   ],
   "source": [
    "# plots the cost function to visualize the accuracy of theta increase\n",
    "fig, ax = plt.subplots(figsize=(12,8))  \n",
    "ax.plot(np.arange(it), cost, 'r')  \n",
    "ax.set_xlabel('Iterations')  \n",
    "ax.set_ylabel('Cost')  \n",
    "ax.set_title('Error vs. Training Epoch') "
   ]
  },
  {
   "cell_type": "code",
   "execution_count": 10,
   "metadata": {},
   "outputs": [],
   "source": [
    "# reading test data into a dataframe\n",
    "# done above"
   ]
  },
  {
   "cell_type": "code",
   "execution_count": 11,
   "metadata": {},
   "outputs": [
    {
     "name": "stdout",
     "output_type": "stream",
     "text": [
      "              0\n",
      "0     12.141054\n",
      "1      1.527472\n",
      "2      8.023187\n",
      "3      6.242879\n",
      "4      7.225567\n",
      "5     66.127296\n",
      "6     -5.109602\n",
      "7     18.283337\n",
      "8     -1.724020\n",
      "9      3.281409\n",
      "10    -0.560583\n",
      "11     2.399608\n",
      "12     3.454785\n",
      "13    30.247669\n",
      "14    26.540367\n",
      "15     7.166281\n",
      "16    14.814263\n",
      "17    -7.807079\n",
      "18    19.816982\n",
      "19    10.952197\n",
      "20    -6.564473\n",
      "21     4.531160\n",
      "22     7.410479\n",
      "23     0.434104\n",
      "24     2.579617\n",
      "25    -0.247594\n",
      "26    -0.731233\n",
      "27     0.420066\n",
      "28    13.262670\n",
      "29     2.330741\n",
      "...         ...\n",
      "7594  32.537420\n",
      "7595   4.614716\n",
      "7596  -0.366457\n",
      "7597   3.537328\n",
      "7598  -0.485395\n",
      "7599  11.387961\n",
      "7600   9.672629\n",
      "7601  -3.968560\n",
      "7602   1.798911\n",
      "7603  -3.997653\n",
      "7604   6.242014\n",
      "7605   0.605540\n",
      "7606  -4.918540\n",
      "7607   3.190688\n",
      "7608   7.087459\n",
      "7609   2.334238\n",
      "7610   8.686372\n",
      "7611  15.125015\n",
      "7612   0.650705\n",
      "7613  32.537420\n",
      "7614  -0.382090\n",
      "7615   5.279276\n",
      "7616   0.835419\n",
      "7617   2.984495\n",
      "7618 -96.842261\n",
      "7619  -3.935769\n",
      "7620   3.851026\n",
      "7621   7.800173\n",
      "7622   7.633746\n",
      "7623   3.768169\n",
      "\n",
      "[7624 rows x 1 columns] 0         4.0\n",
      "1         0.0\n",
      "2         1.0\n",
      "3         5.0\n",
      "4         0.0\n",
      "5       139.0\n",
      "6         1.0\n",
      "7         5.0\n",
      "8         2.0\n",
      "9         0.0\n",
      "10        0.0\n",
      "11        1.0\n",
      "12        0.0\n",
      "13        5.0\n",
      "14        6.0\n",
      "15        0.0\n",
      "16       22.0\n",
      "17        0.0\n",
      "18        0.0\n",
      "19        0.0\n",
      "20        0.0\n",
      "21        0.0\n",
      "22        9.0\n",
      "23        1.0\n",
      "24        0.0\n",
      "25        0.0\n",
      "26        2.0\n",
      "27        0.0\n",
      "28        1.0\n",
      "29        1.0\n",
      "        ...  \n",
      "7594      5.0\n",
      "7595      0.0\n",
      "7596      0.0\n",
      "7597      0.0\n",
      "7598      0.0\n",
      "7599     14.0\n",
      "7600      0.0\n",
      "7601      0.0\n",
      "7602      0.0\n",
      "7603      0.0\n",
      "7604      0.0\n",
      "7605      0.0\n",
      "7606      0.0\n",
      "7607      0.0\n",
      "7608      2.0\n",
      "7609      0.0\n",
      "7610      0.0\n",
      "7611      0.0\n",
      "7612      5.0\n",
      "7613      5.0\n",
      "7614      0.0\n",
      "7615      0.0\n",
      "7616      0.0\n",
      "7617      0.0\n",
      "7618      0.0\n",
      "7619      0.0\n",
      "7620      0.0\n",
      "7621      0.0\n",
      "7622      3.0\n",
      "7623      0.0\n",
      "Name: 280, Length: 7624, dtype: float64\n"
     ]
    }
   ],
   "source": [
    "# Your prediction on test data\n",
    "# predict y by multiplying test features and the now acurate theta\n",
    "Pred = pd.DataFrame(np.matmul(df_test,theta))\n",
    "print(Pred, RealY)"
   ]
  },
  {
   "cell_type": "code",
   "execution_count": 12,
   "metadata": {
    "scrolled": true
   },
   "outputs": [
    {
     "data": {
      "text/plain": [
       "646.8194941740851"
      ]
     },
     "execution_count": 12,
     "metadata": {},
     "output_type": "execute_result"
    }
   ],
   "source": [
    "# evaluation by scikit learn's mean_squared_error\n",
    "# note that it is acceptable if your mean_squared_error is\n",
    "# somewhere near or between 647 to 664\n",
    "m.mean_squared_error(RealY,Pred)"
   ]
  },
  {
   "cell_type": "code",
   "execution_count": null,
   "metadata": {},
   "outputs": [],
   "source": []
  },
  {
   "cell_type": "code",
   "execution_count": null,
   "metadata": {},
   "outputs": [],
   "source": []
  }
 ],
 "metadata": {
  "kernelspec": {
   "display_name": "Python 3",
   "language": "python",
   "name": "python3"
  },
  "language_info": {
   "codemirror_mode": {
    "name": "ipython",
    "version": 3
   },
   "file_extension": ".py",
   "mimetype": "text/x-python",
   "name": "python",
   "nbconvert_exporter": "python",
   "pygments_lexer": "ipython3",
   "version": "3.6.4"
  }
 },
 "nbformat": 4,
 "nbformat_minor": 2
}
